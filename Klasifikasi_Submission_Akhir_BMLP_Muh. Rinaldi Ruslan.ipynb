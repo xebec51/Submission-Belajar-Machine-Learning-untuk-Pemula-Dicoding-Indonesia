{
  "cells": [
    {
      "cell_type": "markdown",
      "metadata": {
        "id": "fKADPWcFKlj3"
      },
      "source": [
        "# **1. Import Library**"
      ]
    },
    {
      "cell_type": "markdown",
      "metadata": {
        "id": "LgA3ERnVn84N"
      },
      "source": [
        "Pada tahap ini, Anda perlu mengimpor beberapa pustaka (library) Python yang dibutuhkan untuk analisis data dan pembangunan model machine learning."
      ]
    },
    {
      "cell_type": "code",
      "execution_count": 1,
      "metadata": {
        "id": "BlmvjLY9M4Yj"
      },
      "outputs": [
        {
          "name": "stdout",
          "output_type": "stream",
          "text": [
            "Semua pustaka telah berhasil diimpor.\n"
          ]
        }
      ],
      "source": [
        "import pandas as pd\n",
        "import numpy as np\n",
        "import matplotlib.pyplot as plt\n",
        "import seaborn as sns\n",
        "from sklearn.model_selection import train_test_split\n",
        "from sklearn.preprocessing import StandardScaler, LabelEncoder\n",
        "from sklearn.linear_model import LogisticRegression\n",
        "from sklearn.ensemble import RandomForestClassifier\n",
        "from sklearn.metrics import accuracy_score, f1_score, confusion_matrix, classification_report, roc_auc_score, roc_curve\n",
        "import warnings\n",
        "warnings.filterwarnings('ignore')\n",
        "print(\"Semua pustaka telah berhasil diimpor.\")"
      ]
    },
    {
      "cell_type": "markdown",
      "metadata": {
        "id": "f3YIEnAFKrKL"
      },
      "source": [
        "# **2. Memuat Dataset dari Hasil Clustering**"
      ]
    },
    {
      "cell_type": "markdown",
      "metadata": {
        "id": "Ey3ItwTen_7E"
      },
      "source": [
        "Memuat dataset hasil clustering dari file CSV ke dalam variabel DataFrame."
      ]
    },
    {
      "cell_type": "code",
      "execution_count": 2,
      "metadata": {
        "id": "GHCGNTyrM5fS"
      },
      "outputs": [
        {
          "name": "stdout",
          "output_type": "stream",
          "text": [
            "Dataset berhasil dimuat. Berikut adalah 5 baris pertama:\n",
            "   Transaction_ID                 Date      Customer_Name  \\\n",
            "0      1000000000  2022-01-21 06:27:29       Stacey Price   \n",
            "1      1000000001  2023-03-01 13:01:21   Michelle Carlson   \n",
            "2      1000000002  2024-03-21 15:37:04        Lisa Graves   \n",
            "3      1000000003  2020-10-31 09:59:47  Mrs. Patricia May   \n",
            "4      1000000004  2020-12-10 00:59:59     Susan Mitchell   \n",
            "\n",
            "                                             Product  Total_Items  Total_Cost  \\\n",
            "0        ['Ketchup', 'Shaving Cream', 'Light Bulbs']    -0.869165    0.700106   \n",
            "1  ['Ice Cream', 'Milk', 'Olive Oil', 'Bread', 'P...    -1.217397   -0.967474   \n",
            "2                                        ['Spinach']     0.175529   -0.399943   \n",
            "3                             ['Tissues', 'Mustard']    -1.565628   -0.478361   \n",
            "4                                      ['Dish Soap']     1.568455   -1.314340   \n",
            "\n",
            "   Payment_Method  City  Store_Type  Discount_Applied  Customer_Category  \\\n",
            "0               3     5           5              True                  0   \n",
            "1               0     8           3              True                  2   \n",
            "2               1     4           1              True                  2   \n",
            "3               3     2           2              True                  0   \n",
            "4               2     4           3             False                  7   \n",
            "\n",
            "   Season  Promotion Cost_Category  Cluster      PCA1      PCA2  \n",
            "0       3          2        Medium        0 -0.501153  2.499081  \n",
            "1       0          0        Medium        1 -3.501183  0.501567  \n",
            "2       3          2        Medium        2  0.502122 -1.499352  \n",
            "3       1          2        Medium        2  2.500316 -0.498992  \n",
            "4       3          1           Low        0  0.501566  0.493833  \n"
          ]
        }
      ],
      "source": [
        "# Memuat dataset hasil clustering\n",
        "dataset = pd.read_csv(\"Hasil_Clustering.csv\")\n",
        "\n",
        "# Menampilkan 5 baris pertama dataset\n",
        "print(\"Dataset berhasil dimuat. Berikut adalah 5 baris pertama:\")\n",
        "print(dataset.head())\n"
      ]
    },
    {
      "cell_type": "markdown",
      "metadata": {
        "id": "KkPem5eWL2UP"
      },
      "source": [
        "# **3. Data Splitting**"
      ]
    },
    {
      "cell_type": "markdown",
      "metadata": {
        "id": "YYj1rl_JNI9Y"
      },
      "source": [
        "Tahap Data Splitting bertujuan untuk memisahkan dataset menjadi dua bagian: data latih (training set) dan data uji (test set)."
      ]
    },
    {
      "cell_type": "code",
      "execution_count": 3,
      "metadata": {
        "id": "OubAW-7ONKVj"
      },
      "outputs": [
        {
          "name": "stdout",
          "output_type": "stream",
          "text": [
            "Data splitting selesai.\n",
            "Jumlah data latih: 700000\n",
            "Jumlah data uji: 300000\n"
          ]
        }
      ],
      "source": [
        "# Memisahkan fitur dan target\n",
        "X = dataset[['Total_Items', 'Total_Cost', 'Payment_Method', 'City', 'Store_Type']]  # Sesuaikan fitur sesuai kebutuhan\n",
        "y = dataset['Cluster']\n",
        "\n",
        "# Memisahkan data menjadi data latih dan data uji\n",
        "X_train, X_test, y_train, y_test = train_test_split(X, y, test_size=0.3, random_state=42)\n",
        "\n",
        "# Menampilkan informasi tentang data latih dan uji\n",
        "print(\"Data splitting selesai.\")\n",
        "print(f\"Jumlah data latih: {X_train.shape[0]}\")\n",
        "print(f\"Jumlah data uji: {X_test.shape[0]}\")\n"
      ]
    },
    {
      "cell_type": "markdown",
      "metadata": {
        "id": "IVPbB03CMhTT"
      },
      "source": [
        "# **4. Membangun Model Klasifikasi**\n"
      ]
    },
    {
      "cell_type": "markdown",
      "metadata": {
        "id": "Ned1pL9zMmBK"
      },
      "source": [
        "## **a. Membangun Model Klasifikasi**"
      ]
    },
    {
      "cell_type": "markdown",
      "metadata": {
        "id": "WAWzPOE4Nkti"
      },
      "source": [
        "Setelah memilih algoritma klasifikasi yang sesuai, langkah selanjutnya adalah melatih model menggunakan data latih.\n",
        "\n",
        "Berikut adalah rekomendasi tahapannya.\n",
        "1. Pilih algoritma klasifikasi yang sesuai, seperti Logistic Regression, Decision Tree, Random Forest, atau K-Nearest Neighbors (KNN).\n",
        "2. Latih model menggunakan data latih."
      ]
    },
    {
      "cell_type": "code",
      "execution_count": 4,
      "metadata": {
        "id": "4JYxBe87NLDk"
      },
      "outputs": [
        {
          "name": "stdout",
          "output_type": "stream",
          "text": [
            "Model Logistic Regression dan Random Forest telah berhasil dilatih.\n"
          ]
        }
      ],
      "source": [
        "# Model 1: Logistic Regression\n",
        "logreg = LogisticRegression(random_state=42)\n",
        "logreg.fit(X_train, y_train)\n",
        "\n",
        "# Model 2: Random Forest\n",
        "rf = RandomForestClassifier(random_state=42)\n",
        "rf.fit(X_train, y_train)\n",
        "\n",
        "print(\"Model Logistic Regression dan Random Forest telah berhasil dilatih.\")\n"
      ]
    },
    {
      "cell_type": "markdown",
      "metadata": {
        "id": "seYoHNY3XU1y"
      },
      "source": [
        "**Penjelasan Algoritma yang Digunakan**\n",
        "1. Logistic Regression:\n",
        "- Logistic Regression adalah algoritma klasifikasi linear yang digunakan untuk memprediksi probabilitas suatu kategori. Model ini cocok untuk kasus dengan hubungan linier antara fitur dan target.\n",
        "\n",
        "2. Random Forest:\n",
        "- Random Forest adalah algoritma ensemble berbasis pohon keputusan yang bekerja dengan membuat banyak pohon keputusan dan menggabungkan hasilnya. Algoritma ini lebih robust terhadap overfitting dan sering kali memberikan performa tinggi untuk dataset kompleks."
      ]
    },
    {
      "cell_type": "markdown",
      "metadata": {
        "id": "ergzChZFEL-O"
      },
      "source": [
        "## **b. Evaluasi Model Klasifikasi**"
      ]
    },
    {
      "cell_type": "markdown",
      "metadata": {
        "id": "zOm68u-7NpLT"
      },
      "source": [
        "Berikut adalah **rekomendasi** tahapannya.\n",
        "1. Lakukan prediksi menggunakan data uji.\n",
        "2. Hitung metrik evaluasi seperti Accuracy dan F1-Score (Opsional: Precision dan Recall).\n",
        "3. Buat confusion matrix untuk melihat detail prediksi benar dan salah."
      ]
    },
    {
      "cell_type": "code",
      "execution_count": 5,
      "metadata": {
        "id": "tMq4QAssNLip"
      },
      "outputs": [
        {
          "name": "stdout",
          "output_type": "stream",
          "text": [
            "Logistic Regression:\n",
            "Accuracy: 1.00\n",
            "F1-Score: 1.00\n",
            "Confusion Matrix:\n",
            "[[ 85110      0      0]\n",
            " [     0 130041      0]\n",
            " [     0      0  84849]]\n",
            "Classification Report:\n",
            "              precision    recall  f1-score   support\n",
            "\n",
            "           0       1.00      1.00      1.00     85110\n",
            "           1       1.00      1.00      1.00    130041\n",
            "           2       1.00      1.00      1.00     84849\n",
            "\n",
            "    accuracy                           1.00    300000\n",
            "   macro avg       1.00      1.00      1.00    300000\n",
            "weighted avg       1.00      1.00      1.00    300000\n",
            "\n",
            "\n",
            "Random Forest:\n",
            "Accuracy: 1.00\n",
            "F1-Score: 1.00\n",
            "Confusion Matrix:\n",
            "[[ 85110      0      0]\n",
            " [     0 130041      0]\n",
            " [     0      0  84849]]\n",
            "Classification Report:\n",
            "              precision    recall  f1-score   support\n",
            "\n",
            "           0       1.00      1.00      1.00     85110\n",
            "           1       1.00      1.00      1.00    130041\n",
            "           2       1.00      1.00      1.00     84849\n",
            "\n",
            "    accuracy                           1.00    300000\n",
            "   macro avg       1.00      1.00      1.00    300000\n",
            "weighted avg       1.00      1.00      1.00    300000\n",
            "\n"
          ]
        }
      ],
      "source": [
        "# Prediksi menggunakan Logistic Regression\n",
        "y_pred_logreg = logreg.predict(X_test)\n",
        "\n",
        "# Evaluasi Logistic Regression\n",
        "accuracy_logreg = accuracy_score(y_test, y_pred_logreg)\n",
        "f1_logreg = f1_score(y_test, y_pred_logreg, average='weighted')\n",
        "\n",
        "print(\"Logistic Regression:\")\n",
        "print(f\"Accuracy: {accuracy_logreg:.2f}\")\n",
        "print(f\"F1-Score: {f1_logreg:.2f}\")\n",
        "print(\"Confusion Matrix:\")\n",
        "print(confusion_matrix(y_test, y_pred_logreg))\n",
        "print(\"Classification Report:\")\n",
        "print(classification_report(y_test, y_pred_logreg))\n",
        "\n",
        "# Prediksi menggunakan Random Forest\n",
        "y_pred_rf = rf.predict(X_test)\n",
        "\n",
        "# Evaluasi Random Forest\n",
        "accuracy_rf = accuracy_score(y_test, y_pred_rf)\n",
        "f1_rf = f1_score(y_test, y_pred_rf, average='weighted')\n",
        "\n",
        "print(\"\\nRandom Forest:\")\n",
        "print(f\"Accuracy: {accuracy_rf:.2f}\")\n",
        "print(f\"F1-Score: {f1_rf:.2f}\")\n",
        "print(\"Confusion Matrix:\")\n",
        "print(confusion_matrix(y_test, y_pred_rf))\n",
        "print(\"Classification Report:\")\n",
        "print(classification_report(y_test, y_pred_rf))"
      ]
    },
    {
      "cell_type": "markdown",
      "metadata": {
        "id": "H4_9OwrsXZlz"
      },
      "source": [
        "**Hasil Evaluasi Logistic Regression**\n",
        "1. Accuracy: 1.00 (100%)\n",
        "- Semua prediksi model benar pada data uji.\n",
        "\n",
        "2. F1-Score: 1.00 (100%)\n",
        "- Kombinasi precision dan recall mencapai nilai sempurna.\n",
        "\n",
        "3. Confusion Matrix:\n",
        "- Tidak ada kesalahan klasifikasi. Semua sampel di setiap kelas terklasifikasi dengan benar.\n",
        "\n",
        "4. Classification Report:\n",
        "- Precision, Recall, dan F1-Score untuk setiap kelas (0, 1, 2) semuanya adalah 1.00.\n",
        "\n",
        "**Hasil Evaluasi Random Forest**\n",
        "1. Accuracy: 1.00 (100%)\n",
        "- Sama seperti Logistic Regression, semua prediksi benar pada data uji.\n",
        "\n",
        "2. F1-Score: 1.00 (100%)\n",
        "- Sama seperti Logistic Regression, model ini juga sempurna dalam menggabungkan precision dan recall.\n",
        "\n",
        "3. Confusion Matrix:\n",
        "- Tidak ada kesalahan klasifikasi. Sama dengan Logistic Regression.\n",
        "\n",
        "4. Classification Report:\n",
        "- Sama seperti Logistic Regression, precision, recall, dan F1-Score untuk setiap kelas adalah 1.00.\n",
        "\n",
        "**Perbandingan Hasil**\n",
        "1. Akurasi:\n",
        "- Logistic Regression dan Random Forest keduanya mencapai akurasi sempurna (100%).\n",
        "\n",
        "2. F1-Score:\n",
        "- Logistic Regression dan Random Forest sama-sama memiliki F1-Score sempurna (1.00).\n",
        "\n",
        "3. Kesamaan Hasil:\n",
        "- Kedua model menunjukkan performa identik pada data uji. Tidak ada kesalahan prediksi dalam confusion matrix, sehingga precision, recall, dan F1-Score semuanya bernilai sempurna.\n",
        "\n",
        "4. Kesimpulan:\n",
        "- Berdasarkan evaluasi, kedua model memberikan hasil yang identik dan sempurna untuk dataset ini. Tidak ada perbedaan signifikan dalam performa kedua model, sehingga pemilihan model dapat didasarkan pada preferensi penggunaan atau kompleksitas komputasi (Logistic Regression lebih sederhana dibanding Random Forest)."
      ]
    },
    {
      "cell_type": "markdown",
      "metadata": {
        "id": "ZRsOdm4uEgAW"
      },
      "source": [
        "## **c. Analisis Hasil Evaluasi Model Klasifikasi**"
      ]
    },
    {
      "cell_type": "markdown",
      "metadata": {
        "id": "Hm3BhSi6N4_l"
      },
      "source": [
        "### **1. Perbandingan Hasil Evaluasi**\n",
        "Saya telah mengevaluasi dua model yang telah dilatih, yaitu Logistic Regression dan Random Forest. Dari hasil evaluasi, keduanya menunjukkan performa yang luar biasa dengan akurasi dan F1-Score yang sama-sama mencapai 100%. Ini berarti kedua model mampu memprediksi semua data uji dengan sangat akurat tanpa kesalahan.\n",
        "\n",
        "Kedua model memberikan hasil yang identik, sehingga dalam kasus ini, baik Logistic Regression maupun Random Forest sama-sama bisa digunakan.\n",
        "\n",
        "---\n",
        "\n",
        "### **2. Identifikasi Kelemahan Model**\n",
        "Setelah mengevaluasi hasil prediksi, saya tidak menemukan kelemahan yang signifikan dari kedua model. Berikut adalah beberapa poin yang mendukung kesimpulan ini:\n",
        "- Precision dan Recall untuk setiap kelas mencapai nilai sempurna (1.00). Artinya, model mampu memprediksi setiap kelas dengan sangat baik tanpa bias terhadap salah satu kelas tertentu.\n",
        "- Tidak ada indikasi overfitting atau underfitting karena performa model pada data uji sangat konsisten dengan data latih.\n",
        "\n",
        "Namun, karena dataset ini memiliki pola yang relatif jelas (berdasarkan evaluasi clustering sebelumnya), hasil sempurna ini mungkin dipengaruhi oleh struktur data yang sudah sangat terdefinisi.\n",
        "\n",
        "---\n",
        "\n",
        "### **3. Rekomendasi Tindakan Lanjutan**\n",
        "Meskipun model sudah memberikan hasil yang sempurna, saya merekomendasikan beberapa langkah berikut untuk memastikan model tetap andal di berbagai situasi:\n",
        "1. **Uji Model pada Dataset Baru**:\n",
        "   - Untuk memastikan generalisasi, model ini sebaiknya diuji pada dataset baru yang memiliki karakteristik serupa. Hal ini penting untuk mengetahui apakah model tetap bekerja optimal di luar dataset ini.\n",
        "2. **Eksplorasi Algoritma Lain**:\n",
        "   - Walaupun hasil Logistic Regression dan Random Forest sudah sempurna, mencoba algoritma lain seperti Gradient Boosting atau Support Vector Machine dapat memberikan perspektif baru terhadap dataset ini.\n",
        "3. **Pengumpulan Data Tambahan**:\n",
        "   - Jika memungkinkan, mengumpulkan data tambahan dengan karakteristik yang lebih bervariasi bisa membantu meningkatkan ketahanan model terhadap data yang tidak terduga.\n",
        "4. **Implementasi dan Deployment**:\n",
        "   - Langkah selanjutnya adalah mengimplementasikan model ini dalam lingkungan produksi. Pastikan model terus dipantau performanya, terutama jika digunakan pada data real-time.\n",
        "\n",
        "---\n",
        "\n",
        "### **Kesimpulan**\n",
        "Dari analisis yang saya lakukan, saya yakin bahwa kedua model ini sudah sangat baik dan siap digunakan. Logistic Regression menawarkan pendekatan yang lebih sederhana, sedangkan Random Forest bisa menjadi pilihan jika ada kebutuhan untuk menangani dataset yang lebih kompleks."
      ]
    }
  ],
  "metadata": {
    "colab": {
      "provenance": []
    },
    "kernelspec": {
      "display_name": "base",
      "language": "python",
      "name": "python3"
    },
    "language_info": {
      "codemirror_mode": {
        "name": "ipython",
        "version": 3
      },
      "file_extension": ".py",
      "mimetype": "text/x-python",
      "name": "python",
      "nbconvert_exporter": "python",
      "pygments_lexer": "ipython3",
      "version": "3.12.4"
    }
  },
  "nbformat": 4,
  "nbformat_minor": 0
}
