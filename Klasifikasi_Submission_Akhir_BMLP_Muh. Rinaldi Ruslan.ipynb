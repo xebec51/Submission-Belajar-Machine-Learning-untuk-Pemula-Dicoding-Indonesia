{
  "cells": [
    {
      "cell_type": "markdown",
      "metadata": {
        "id": "fKADPWcFKlj3"
      },
      "source": [
        "# **1. Import Library**"
      ]
    },
    {
      "cell_type": "markdown",
      "metadata": {
        "id": "LgA3ERnVn84N"
      },
      "source": [
        "Pada tahap ini, Anda perlu mengimpor beberapa pustaka (library) Python yang dibutuhkan untuk analisis data dan pembangunan model machine learning."
      ]
    },
    {
      "cell_type": "code",
      "execution_count": 1,
      "metadata": {
        "id": "BlmvjLY9M4Yj"
      },
      "outputs": [
        {
          "name": "stdout",
          "output_type": "stream",
          "text": [
            "Semua pustaka telah berhasil diimpor.\n"
          ]
        }
      ],
      "source": [
        "import pandas as pd\n",
        "import numpy as np\n",
        "import matplotlib.pyplot as plt\n",
        "import seaborn as sns\n",
        "from sklearn.model_selection import train_test_split\n",
        "from sklearn.preprocessing import StandardScaler, LabelEncoder\n",
        "from sklearn.linear_model import LogisticRegression\n",
        "from sklearn.ensemble import RandomForestClassifier\n",
        "from sklearn.metrics import accuracy_score, f1_score, confusion_matrix, classification_report, roc_auc_score, roc_curve\n",
        "import warnings\n",
        "warnings.filterwarnings('ignore')\n",
        "print(\"Semua pustaka telah berhasil diimpor.\")"
      ]
    },
    {
      "cell_type": "markdown",
      "metadata": {
        "id": "f3YIEnAFKrKL"
      },
      "source": [
        "# **2. Memuat Dataset dari Hasil Clustering**"
      ]
    },
    {
      "cell_type": "markdown",
      "metadata": {
        "id": "Ey3ItwTen_7E"
      },
      "source": [
        "Memuat dataset hasil clustering dari file CSV ke dalam variabel DataFrame."
      ]
    },
    {
      "cell_type": "code",
      "execution_count": 2,
      "metadata": {
        "id": "GHCGNTyrM5fS"
      },
      "outputs": [
        {
          "name": "stdout",
          "output_type": "stream",
          "text": [
            "Informasi Dataset:\n",
            "<class 'pandas.core.frame.DataFrame'>\n",
            "RangeIndex: 100000 entries, 0 to 99999\n",
            "Data columns (total 11 columns):\n",
            " #   Column             Non-Null Count   Dtype  \n",
            "---  ------             --------------   -----  \n",
            " 0   Total_Items        100000 non-null  float64\n",
            " 1   Total_Cost         100000 non-null  float64\n",
            " 2   Payment_Method     100000 non-null  int64  \n",
            " 3   City               100000 non-null  int64  \n",
            " 4   Store_Type         100000 non-null  int64  \n",
            " 5   Discount_Applied   100000 non-null  bool   \n",
            " 6   Customer_Category  100000 non-null  int64  \n",
            " 7   Season             100000 non-null  int64  \n",
            " 8   Promotion          100000 non-null  int64  \n",
            " 9   Cost_Category      100000 non-null  object \n",
            " 10  Cluster            100000 non-null  int64  \n",
            "dtypes: bool(1), float64(2), int64(7), object(1)\n",
            "memory usage: 7.7+ MB\n",
            "None\n",
            "\n",
            "5 Baris Pertama Dataset:\n",
            "   Total_Items  Total_Cost  Payment_Method  City  Store_Type  \\\n",
            "0    -0.869165   -1.306680               1     4           3   \n",
            "1    -0.172702   -1.641145               2     6           4   \n",
            "2     1.220224   -0.006756               0     1           5   \n",
            "3    -0.172702   -0.985346               0     5           0   \n",
            "4     0.175529    1.225328               1     0           2   \n",
            "\n",
            "   Discount_Applied  Customer_Category  Season  Promotion Cost_Category  \\\n",
            "0              True                  1       3          2           Low   \n",
            "1             False                  1       0          0           Low   \n",
            "2              True                  6       0          0        Medium   \n",
            "3             False                  0       1          2        Medium   \n",
            "4             False                  2       0          0          High   \n",
            "\n",
            "   Cluster  \n",
            "0        1  \n",
            "1        0  \n",
            "2        3  \n",
            "3        3  \n",
            "4        1  \n"
          ]
        }
      ],
      "source": [
        "# Memuat dataset hasil clustering\n",
        "dataset = pd.read_csv(\"Hasil_Clustering_Final.csv\")\n",
        "\n",
        "# Menampilkan informasi dataset\n",
        "print(\"Informasi Dataset:\")\n",
        "print(dataset.info())\n",
        "\n",
        "# Melihat 5 baris pertama\n",
        "print(\"\\n5 Baris Pertama Dataset:\")\n",
        "print(dataset.head())"
      ]
    },
    {
      "cell_type": "markdown",
      "metadata": {
        "id": "KkPem5eWL2UP"
      },
      "source": [
        "# **3. Data Splitting**"
      ]
    },
    {
      "cell_type": "markdown",
      "metadata": {
        "id": "YYj1rl_JNI9Y"
      },
      "source": [
        "Tahap Data Splitting bertujuan untuk memisahkan dataset menjadi dua bagian: data latih (training set) dan data uji (test set)."
      ]
    },
    {
      "cell_type": "code",
      "execution_count": 3,
      "metadata": {
        "id": "OubAW-7ONKVj"
      },
      "outputs": [
        {
          "name": "stdout",
          "output_type": "stream",
          "text": [
            "\n",
            "Kolom Kategorikal yang Ditemukan: ['Discount_Applied', 'Cost_Category']\n",
            "Kolom 'Discount_Applied' telah di-encode.\n",
            "Kolom 'Cost_Category' telah di-encode.\n",
            "\n",
            "Jumlah Data:\n",
            "Training Set: (80000, 10)\n",
            "Testing Set: (20000, 10)\n",
            "\n",
            "Standardisasi data berhasil dilakukan.\n"
          ]
        }
      ],
      "source": [
        "# Memisahkan fitur (X) dan target (y)\n",
        "X = dataset.drop(columns=['Cluster'])  # Cluster sebagai target\n",
        "y = dataset['Cluster']  # Target\n",
        "\n",
        "# Encoding kolom kategorikal pada fitur\n",
        "categorical_cols = X.select_dtypes(include=['object', 'bool']).columns\n",
        "if len(categorical_cols) > 0:\n",
        "    print(\"\\nKolom Kategorikal yang Ditemukan:\", list(categorical_cols))\n",
        "    encoder = LabelEncoder()\n",
        "    for col in categorical_cols:\n",
        "        X[col] = encoder.fit_transform(X[col])\n",
        "        print(f\"Kolom '{col}' telah di-encode.\")\n",
        "else:\n",
        "    print(\"\\nTidak ada kolom kategorikal yang perlu di-encode.\")\n",
        "\n",
        "# Membagi data menjadi training dan testing\n",
        "X_train, X_test, y_train, y_test = train_test_split(X, y, test_size=0.2, random_state=42, stratify=y)\n",
        "\n",
        "# Menampilkan jumlah data pada masing-masing set\n",
        "print(\"\\nJumlah Data:\")\n",
        "print(\"Training Set:\", X_train.shape)\n",
        "print(\"Testing Set:\", X_test.shape)\n",
        "\n",
        "# Standardisasi data numerik\n",
        "scaler = StandardScaler()\n",
        "X_train = scaler.fit_transform(X_train)\n",
        "X_test = scaler.transform(X_test)\n",
        "\n",
        "print(\"\\nStandardisasi data berhasil dilakukan.\")"
      ]
    },
    {
      "cell_type": "markdown",
      "metadata": {
        "id": "IVPbB03CMhTT"
      },
      "source": [
        "# **4. Membangun Model Klasifikasi**\n"
      ]
    },
    {
      "cell_type": "markdown",
      "metadata": {
        "id": "Ned1pL9zMmBK"
      },
      "source": [
        "## **a. Membangun Model Klasifikasi**"
      ]
    },
    {
      "cell_type": "markdown",
      "metadata": {
        "id": "WAWzPOE4Nkti"
      },
      "source": [
        "Setelah memilih algoritma klasifikasi yang sesuai, langkah selanjutnya adalah melatih model menggunakan data latih.\n",
        "\n",
        "Berikut adalah rekomendasi tahapannya.\n",
        "1. Pilih algoritma klasifikasi yang sesuai, seperti Logistic Regression, Decision Tree, Random Forest, atau K-Nearest Neighbors (KNN).\n",
        "2. Latih model menggunakan data latih."
      ]
    },
    {
      "cell_type": "code",
      "execution_count": 4,
      "metadata": {
        "id": "4JYxBe87NLDk"
      },
      "outputs": [
        {
          "name": "stdout",
          "output_type": "stream",
          "text": [
            "\n",
            "Model Logistic Regression telah dilatih.\n",
            "Model Random Forest telah dilatih.\n",
            "\n",
            "Hasil Akurasi Data Latih:\n",
            "Logistic Regression: 1.0000\n",
            "Random Forest: 1.0000\n"
          ]
        }
      ],
      "source": [
        "# Logistic Regression\n",
        "logistic_model = LogisticRegression(random_state=42, max_iter=500)\n",
        "logistic_model.fit(X_train, y_train)\n",
        "print(\"\\nModel Logistic Regression telah dilatih.\")\n",
        "\n",
        "# Random Forest\n",
        "random_forest_model = RandomForestClassifier(random_state=42, n_estimators=100, max_depth=10)\n",
        "random_forest_model.fit(X_train, y_train)\n",
        "print(\"Model Random Forest telah dilatih.\")\n",
        "\n",
        "# Menampilkan hasil latih\n",
        "print(\"\\nHasil Akurasi Data Latih:\")\n",
        "print(f\"Logistic Regression: {logistic_model.score(X_train, y_train):.4f}\")\n",
        "print(f\"Random Forest: {random_forest_model.score(X_train, y_train):.4f}\")"
      ]
    },
    {
      "cell_type": "markdown",
      "metadata": {},
      "source": [
        "### **Alasan Memilih Algoritma**\n",
        "Setelah mencoba berbagai algoritma, dua algoritma berikut dipilih karena performa yang konsisten tinggi dan karakteristik data:\n",
        "\n",
        "1. **Logistic Regression**:\n",
        "   - Dipilih karena kesederhanaannya dan interpretabilitas yang tinggi.\n",
        "   - Cocok untuk dataset yang memiliki distribusi cluster yang terdefinisi dengan baik, di mana hubungan antar fitur cenderung linier.\n",
        "   - Memberikan informasi tentang bobot tiap fitur, sehingga membantu memahami hubungan antara fitur dan target.\n",
        "\n",
        "2. **Random Forest**:\n",
        "   - Dipilih karena kekuatan ensemble dalam menangani data kompleks dengan hubungan non-linier.\n",
        "   - Mampu menangkap interaksi antar fitur tanpa memerlukan normalisasi data.\n",
        "   - Robust terhadap noise dan fitur tidak penting, yang membuatnya lebih fleksibel dalam menangani data clustering.\n",
        "\n",
        "#### Algoritma yang Tidak Terpilih:\n",
        "- **K-Nearest Neighbors (KNN)**: Memiliki performa yang tidak konsisten dan membutuhkan tuning parameter intensif seperti jumlah tetangga.\n",
        "- **Decision Tree**: Cenderung overfit pada data latih, yang dapat memengaruhi generalisasi pada data uji.\n",
        "- **Support Vector Machine (SVM)**: Membutuhkan lebih banyak waktu untuk komputasi pada dataset besar.\n"
      ]
    },
    {
      "cell_type": "markdown",
      "metadata": {
        "id": "ergzChZFEL-O"
      },
      "source": [
        "## **b. Evaluasi Model Klasifikasi**"
      ]
    },
    {
      "cell_type": "markdown",
      "metadata": {
        "id": "zOm68u-7NpLT"
      },
      "source": [
        "Berikut adalah **rekomendasi** tahapannya.\n",
        "1. Lakukan prediksi menggunakan data uji.\n",
        "2. Hitung metrik evaluasi seperti Accuracy dan F1-Score (Opsional: Precision dan Recall).\n",
        "3. Buat confusion matrix untuk melihat detail prediksi benar dan salah."
      ]
    },
    {
      "cell_type": "code",
      "execution_count": 5,
      "metadata": {
        "id": "tMq4QAssNLip"
      },
      "outputs": [
        {
          "name": "stdout",
          "output_type": "stream",
          "text": [
            "\n",
            "Hasil Evaluasi pada Data Uji:\n",
            "Logistic Regression - Accuracy: 1.0000, F1-Score: 1.0000\n",
            "Random Forest - Accuracy: 1.0000, F1-Score: 1.0000\n",
            "\n",
            "Confusion Matrix - Logistic Regression:\n",
            "[[4982    0    0    0]\n",
            " [   0 5050    0    0]\n",
            " [   0    0 4981    0]\n",
            " [   0    0    0 4987]]\n"
          ]
        },
        {
          "data": {
            "image/png": "[encoded data removed]",
            "text/plain": [
              "<Figure size 600x400 with 2 Axes>"
            ]
          },
          "metadata": {},
          "output_type": "display_data"
        },
        {
          "name": "stdout",
          "output_type": "stream",
          "text": [
            "\n",
            "Confusion Matrix - Random Forest:\n",
            "[[4982    0    0    0]\n",
            " [   0 5050    0    0]\n",
            " [   0    0 4981    0]\n",
            " [   0    0    0 4987]]\n"
          ]
        },
        {
          "data": {
            "image/png": "[encoded data removed]",
            "text/plain": [
              "<Figure size 600x400 with 2 Axes>"
            ]
          },
          "metadata": {},
          "output_type": "display_data"
        }
      ],
      "source": [
        "# Prediksi pada data uji\n",
        "y_pred_logistic = logistic_model.predict(X_test)\n",
        "y_pred_rf = random_forest_model.predict(X_test)\n",
        "\n",
        "# Menghitung metrik evaluasi\n",
        "logistic_acc = accuracy_score(y_test, y_pred_logistic)\n",
        "logistic_f1 = f1_score(y_test, y_pred_logistic, average='weighted')\n",
        "\n",
        "rf_acc = accuracy_score(y_test, y_pred_rf)\n",
        "rf_f1 = f1_score(y_test, y_pred_rf, average='weighted')\n",
        "\n",
        "print(\"\\nHasil Evaluasi pada Data Uji:\")\n",
        "print(f\"Logistic Regression - Accuracy: {logistic_acc:.4f}, F1-Score: {logistic_f1:.4f}\")\n",
        "print(f\"Random Forest - Accuracy: {rf_acc:.4f}, F1-Score: {rf_f1:.4f}\")\n",
        "\n",
        "# Confusion Matrix untuk Logistic Regression\n",
        "print(\"\\nConfusion Matrix - Logistic Regression:\")\n",
        "conf_matrix_logistic = confusion_matrix(y_test, y_pred_logistic)\n",
        "print(conf_matrix_logistic)\n",
        "\n",
        "# Visualisasi Confusion Matrix untuk Logistic Regression\n",
        "plt.figure(figsize=(6, 4))\n",
        "sns.heatmap(conf_matrix_logistic, annot=True, fmt=\"d\", cmap=\"Blues\", xticklabels=np.unique(y), yticklabels=np.unique(y))\n",
        "plt.title(\"Confusion Matrix - Logistic Regression\")\n",
        "plt.xlabel(\"Predicted\")\n",
        "plt.ylabel(\"True\")\n",
        "plt.tight_layout()\n",
        "plt.show()\n",
        "\n",
        "# Confusion Matrix untuk Random Forest\n",
        "print(\"\\nConfusion Matrix - Random Forest:\")\n",
        "conf_matrix_rf = confusion_matrix(y_test, y_pred_rf)\n",
        "print(conf_matrix_rf)\n",
        "\n",
        "# Visualisasi Confusion Matrix untuk Random Forest\n",
        "plt.figure(figsize=(6, 4))\n",
        "sns.heatmap(conf_matrix_rf, annot=True, fmt=\"d\", cmap=\"Greens\", xticklabels=np.unique(y), yticklabels=np.unique(y))\n",
        "plt.title(\"Confusion Matrix - Random Forest\")\n",
        "plt.xlabel(\"Predicted\")\n",
        "plt.ylabel(\"True\")\n",
        "plt.tight_layout()\n",
        "plt.show()"
      ]
    },
    {
      "cell_type": "markdown",
      "metadata": {
        "id": "ZRsOdm4uEgAW"
      },
      "source": [
        "## **c. Analisis Hasil Evaluasi Model Klasifikasi**"
      ]
    },
    {
      "cell_type": "markdown",
      "metadata": {},
      "source": [
        "Hasil evaluasi menunjukkan bahwa kedua model, yaitu Logistic Regression dan Random Forest, memiliki performa yang sangat baik pada data uji dengan nilai **Akurasi** dan **F1-Score** mencapai 1.0000. \n",
        "\n",
        "#### **Interpretasi Hasil:**\n",
        "1. **Logistic Regression**:\n",
        "   - Logistic Regression adalah model yang bekerja optimal untuk data yang memiliki hubungan linier. Dalam kasus ini, hasil confusion matrix menunjukkan bahwa model mampu memprediksi seluruh label cluster dengan benar tanpa adanya kesalahan klasifikasi.\n",
        "   - Model ini dapat diandalkan untuk interpretasi sebab sifatnya yang transparan dan memberikan informasi tentang kontribusi setiap fitur.\n",
        "\n",
        "2. **Random Forest**:\n",
        "   - Random Forest, yang menggunakan pendekatan ensemble, menunjukkan hasil yang sama baiknya dengan Logistic Regression. Model ini sangat efektif untuk menangani data dengan hubungan non-linier dan menangkap interaksi antar fitur.\n",
        "   - Confusion matrix menunjukkan tidak adanya kesalahan prediksi untuk setiap cluster, yang menunjukkan model memiliki generalisasi yang sangat baik terhadap data.\n",
        "\n",
        "#### **Kesimpulan**:\n",
        "- Kedua model sangat baik dalam memprediksi cluster dengan data yang diberikan.\n",
        "- Akurasi yang sempurna harus dianalisis lebih lanjut untuk mengidentifikasi potensi overfitting, mengingat model mungkin terlalu terfokus pada data latih karena data yang terstruktur atau cluster yang terdistribusi dengan jelas.\n"
      ]
    },
    {
      "cell_type": "markdown",
      "metadata": {},
      "source": [
        "# **5. Eksport Dataset Klasifikasi**"
      ]
    },
    {
      "cell_type": "code",
      "execution_count": 6,
      "metadata": {},
      "outputs": [
        {
          "name": "stdout",
          "output_type": "stream",
          "text": [
            "Dataset hasil klasifikasi telah disimpan ke file: Hasil_Klasifikasi_Final.csv\n"
          ]
        }
      ],
      "source": [
        "# Mengekspor hasil klasifikasi\n",
        "dataset['Predicted_Cluster'] = logistic_model.predict(X)\n",
        "output_file_classification = \"Hasil_Klasifikasi_Final.csv\"\n",
        "dataset.to_csv(output_file_classification, index=False)\n",
        "print(f\"Dataset hasil klasifikasi telah disimpan ke file: {output_file_classification}\")"
      ]
    }
  ],
  "metadata": {
    "colab": {
      "provenance": []
    },
    "kernelspec": {
      "display_name": "main-ds",
      "language": "python",
      "name": "python3"
    },
    "language_info": {
      "codemirror_mode": {
        "name": "ipython",
        "version": 3
      },
      "file_extension": ".py",
      "mimetype": "text/x-python",
      "name": "python",
      "nbconvert_exporter": "python",
      "pygments_lexer": "ipython3",
      "version": "3.9.20"
    }
  },
  "nbformat": 4,
  "nbformat_minor": 0
}
